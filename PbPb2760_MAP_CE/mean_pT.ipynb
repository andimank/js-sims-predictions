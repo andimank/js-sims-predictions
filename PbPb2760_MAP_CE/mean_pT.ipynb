{
 "cells": [
  {
   "cell_type": "code",
   "execution_count": 1,
   "metadata": {},
   "outputs": [
    {
     "name": "stdout",
     "output_type": "stream",
     "text": [
      "Using idf = 0 : Grad\n",
      "SystemsInfo = \n",
      "{'Pb-Pb-2760': {'proj': 'Pb', 'targ': 'Pb', 'sqrts': 2760, 'run_id': 'production_500pts_Pb_Pb_2760', 'n_design': 500, 'n_validation': 100, 'design_remove_idx': [289, 483, 324, 326, 459, 429, 334, 462, 242, 341, 406, 440, 377, 123, 447], 'npc': 10, 'MAP_obs_file': 'main.dat'}}\n",
      "[ 20.83815648 951.85714286 308.52380952 ... 865.95454545 278.4\n",
      " 574.44117647]\n"
     ]
    }
   ],
   "source": [
    "import sys; import numpy as np; from collections.abc import Iterable\n",
    "\n",
    "# Input data format\n",
    "from calculations_file_format_single_event import return_result_dtype, Qn_species, Qn_diff_pT_cuts\n",
    "\n",
    "result_dtype = return_result_dtype('ALICE')\n",
    "data = np.fromfile('../../../../../2159949.results.dat', dtype=result_dtype)\n",
    "\n",
    "\n",
    "# Examining the input\n",
    "nev = len(data['ALICE'][:,0]['dNch_deta']) \n",
    "print((data['ALICE'][:,0]['dNch_deta']))\n",
    "# pion = ((data['ALICE'][:,0]['mean_pT']['pion']))\n",
    "# kaon = ((data['ALICE'][:,0]['mean_pT']['kaon']))\n",
    "# proton = ((data['ALICE'][:,0]['mean_pT']['proton']))\n",
    "# print (pion,kaon,proton)\n",
    "\n",
    "# Note: for 2.76 TeV file use \"1\" for viscous correction selection index in file format, for 5.02 file use \"0\""
   ]
  },
  {
   "cell_type": "code",
   "execution_count": 2,
   "metadata": {},
   "outputs": [],
   "source": [
    "# Define the bin edges and centers\n",
    "pT_bins = Qn_diff_pT_cuts\n",
    "mid_pT_bins=[(pT_bins[i]+pT_bins[i+1])/2. for i in range(0,len(pT_bins)-1)]\n",
    "pT_bins_low = np.array(np.delete(pT_bins,[0]))\n",
    "\n",
    "# Pick out the pT-differential Qn array\n",
    "Qn_diff=data['d_flow_pid']\n",
    "\n",
    "# Pick out the pid tuples\n",
    "Qn_species_no_Ch=[tmp for tmp in Qn_species if tmp[0] != \"Ch\"]"
   ]
  },
  {
   "cell_type": "code",
   "execution_count": 3,
   "metadata": {},
   "outputs": [
    {
     "name": "stdout",
     "output_type": "stream",
     "text": [
      "[('pion', 211), ('kaon', 321), ('proton', 2212), ('Sigma', 3222), ('Xi', 3312)]\n"
     ]
    }
   ],
   "source": [
    "print(Qn_species_no_Ch)"
   ]
  },
  {
   "cell_type": "code",
   "execution_count": 4,
   "metadata": {},
   "outputs": [],
   "source": [
    "# Set kinematic cuts\n",
    "pTminCut = .2\n",
    "pTmaxCut = 3\n",
    "etaCut = .5\n",
    "Qn_rap_range = 2"
   ]
  },
  {
   "cell_type": "code",
   "execution_count": 5,
   "metadata": {},
   "outputs": [],
   "source": [
    "# Create and fill array with Q0 values in each pT bin for the three charged particles\n",
    "Q0 = np.zeros((nev,3,56))\n",
    "for k in range(nev):\n",
    "    for i, pT in enumerate(mid_pT_bins):\n",
    "        # leave unfilled the bins outside pT cut\n",
    "        if (pT<pTminCut or pT>pTmaxCut):\n",
    "            continue\n",
    "        Q0[k][0][i] = Qn_diff['pion']['N'][k][:,i][0]\n",
    "        Q0[k][1][i] = Qn_diff['kaon']['N'][k][:,i][0]\n",
    "        Q0[k][2][i] = Qn_diff['proton']['N'][k][:,i][0]"
   ]
  },
  {
   "cell_type": "code",
   "execution_count": 6,
   "metadata": {},
   "outputs": [],
   "source": [
    "# Scale Q0 by bin pT and sum bins for each event for the three charged particles\n",
    "\n",
    "pion_diff = np.zeros(nev); kaon_diff = np.zeros(nev); proton_diff = np.zeros(nev);\n",
    "nbins = len(mid_pT_bins)\n",
    "\n",
    "for k in range(nev):\n",
    "    pi_sum = np.zeros(nbins); k_sum = np.zeros(nbins); p_sum = np.zeros(nbins);  \n",
    "    #weight=1\n",
    "    pi = Q0[k][0][:]; ka = Q0[k][1][:]; p = Q0[k][2][:]\n",
    "    temp_pi = mid_pT_bins*pi\n",
    "    pion_diff[k] = (np.sum(temp_pi))/(np.sum(pi))\n",
    "    temp_k = mid_pT_bins*ka\n",
    "    kaon_diff[k] = (np.sum(temp_k))/(np.sum(ka))\n",
    "    temp_p = mid_pT_bins*p\n",
    "    proton_diff[k] = (np.sum(temp_p))/(np.sum(p))"
   ]
  },
  {
   "cell_type": "code",
   "execution_count": 7,
   "metadata": {},
   "outputs": [
    {
     "name": "stdout",
     "output_type": "stream",
     "text": [
      "[0.51623038 0.61351059 0.58154044 ... 0.601685   0.59000544 0.63043893]\n",
      "[0.66729425 0.87332998 0.80477737 ... 0.85664104 0.81057278 0.89963719]\n"
     ]
    }
   ],
   "source": [
    "print(pion_diff)\n",
    "print(kaon_diff)"
   ]
  },
  {
   "cell_type": "code",
   "execution_count": 8,
   "metadata": {},
   "outputs": [],
   "source": [
    "# Sort the mean pT event-arrays by the charged particle multiplicity in descending order\n",
    "pion = np.zeros(nev); kaon = np.zeros(nev); proton = np.zeros(nev); Nch = np.zeros(nev)\n",
    "\n",
    "sort = np.array(sorted(range(nev), key = lambda x: data['ALICE'][:,0]['dNch_deta'][x], reverse=True))\n",
    "for i in range(nev):\n",
    "\n",
    "        # Pre-calculated <pT> for full pT range (0-10 MeV)\n",
    "    #pion[i] = data['ALICE'][:,0]['mean_pT']['pion'][sort[i]]\n",
    "    #kaon[i] = data['ALICE'][:,0]['mean_pT']['kaon'][sort[i]]\n",
    "    #proton[i] = data['ALICE'][:,0]['mean_pT']['proton'][sort[i]]\n",
    "    \n",
    "        # <pT> using pT-differential Q0s as calculated in this script\n",
    "    pion[i] = pion_diff[sort[i]]\n",
    "    kaon[i] = kaon_diff[sort[i]]\n",
    "    proton[i] = proton_diff[sort[i]]\n",
    "    \n",
    "        # sorted charged multiplicity\n",
    "    Nch[i] = data['ALICE'][:,0]['dNch_deta'][sort[i]]\n",
    "    \n",
    "# see the sorted charged multiplicity and the ordered indeces based on the unsorted array\n",
    "#for i in range(4835): print (i,data['ALICE'][:,0]['dNch_deta'][i],Nch[i],sort[i])"
   ]
  },
  {
   "cell_type": "code",
   "execution_count": 9,
   "metadata": {},
   "outputs": [],
   "source": [
    "# Bin the <pT> and average over events in each centrality bin \n",
    "    # ALICE centrality bins\n",
    "cen = np.array([[0,5],[5,10],[10,20],[20,30],[30,40],[40,50],[50,60],[60,70]])\n",
    "    # event number bin thresholds\n",
    "index = (cen/100.*nev).astype(int)\n",
    "    # centrality bin centers\n",
    "cenM = np.mean(cen, axis=1)\n",
    "\n",
    "mean_pT = np.zeros((3,len(cenM)))\n",
    "for i, (nl,nh) in enumerate(zip(index[:,0], index[:,1])):\n",
    "    x = pion[nl:nh]; y = kaon[nl:nh]; z = proton[nl:nh]\n",
    "    mean_pT[0][i] = np.mean(x); mean_pT[1][i] = np.mean(y); mean_pT[2][i] = np.mean(z)\n",
    "\n",
    "#for i in range(len(cenM)): print(cen[i],index[i],cenM[i])"
   ]
  },
  {
   "cell_type": "code",
   "execution_count": 10,
   "metadata": {},
   "outputs": [],
   "source": [
    "# Approximation using the upper pT-bin edges to scale the Q0 instead of the bin centers \n",
    "mean_pT_upper_cutoff = np.array([[0.55536585, 0.55145251, 0.54619028, 0.53631329, 0.52230146,\n",
    "        0.50643578, 0.4883417 , 0.4720518 ],\n",
    "       [0.87901957, 0.8694625 , 0.85705645, 0.83498001, 0.80532596,\n",
    "        0.77279689, 0.73559601, 0.7014962 ],\n",
    "       [1.44108016, 1.42282725, 1.39579757, 1.35302867, 1.29546323,\n",
    "        1.23501775, 1.16505102, 1.09747884]])"
   ]
  },
  {
   "cell_type": "code",
   "execution_count": 11,
   "metadata": {},
   "outputs": [],
   "source": [
    "# Pre-calculated (integrated) <pT> \n",
    "int_mean_pT2 = np.array([[0.52871837, 0.52518634, 0.51972261, 0.50986828, 0.49581644,\n",
    "        0.47998804, 0.46194116, 0.44552806],\n",
    "       [0.85301246, 0.8438506 , 0.83107432, 0.80907297, 0.77954982,\n",
    "        0.74773423, 0.71046434, 0.67636516],\n",
    "       [1.40092261, 1.38578772, 1.35895242, 1.31905084, 1.26365088,\n",
    "        1.20569498, 1.135085  , 1.06886502]])"
   ]
  },
  {
   "cell_type": "code",
   "execution_count": 12,
   "metadata": {},
   "outputs": [],
   "source": [
    "# pT-differential calculation for [0.15,2 GeV] \n",
    "mean_pT_015_2 = np.array([[0.57782373, 0.57477733, 0.57060155, 0.56215582, 0.54992032,\n",
    "        0.5354695 , 0.51863575, 0.50289536],\n",
    "       [0.83522273, 0.82779592, 0.81866868, 0.8018787 , 0.77845065,\n",
    "        0.75205946, 0.72036283, 0.68983296],\n",
    "       [1.16369697, 1.15756769, 1.14732843, 1.12936993, 1.10355664,\n",
    "        1.07342663, 1.03486038, 0.99217278]])"
   ]
  },
  {
   "cell_type": "code",
   "execution_count": 15,
   "metadata": {},
   "outputs": [
    {
     "data": {
      "image/png": "[encoded data removed]",
      "text/plain": [
       "<matplotlib.figure.Figure at 0x2ad74667a978>"
      ]
     },
     "metadata": {},
     "output_type": "display_data"
    }
   ],
   "source": [
    "import matplotlib.pyplot as plt\n",
    "import matplotlib.patches as mpatches\n",
    "\n",
    "data_pi = [.5682,.5711,.5704,.5615,.5525,.5389,.5214,.5082]\n",
    "data_k = [.9177,.9214,.9193,.9052,.8919,.8685,.8369,.8165]\n",
    "data_p = [1.4482,1.4334,1.4143,1.3768,1.3209,1.2570,1.1822,1.1004]\n",
    "\n",
    "ax = plt.subplot(111)\n",
    "#plt.rcParams.update({'linewidth': 10})\n",
    "plt.rcParams[\"figure.figsize\"] = [5, 5]\n",
    "ax.set_ylim(ymin=0, ymax=2.5);\n",
    "\n",
    "    # experimental data\n",
    "plt.plot(cenM,data_pi,'kv')\n",
    "plt.plot(cenM,data_k,'kv')\n",
    "plt.plot(cenM,data_p,'kv')\n",
    "\n",
    "    # pT-differential calculation using the cuts set in this script\n",
    "plt.plot(cenM,mean_pT[0],'-.b', linewidth=.5)\n",
    "plt.plot(cenM,mean_pT[1],'-.g', linewidth=.5)\n",
    "plt.plot(cenM,mean_pT[2],'-.r', linewidth=.5)\n",
    "    \n",
    "    # pT-differential calculation for [0.15,2 GeV] \n",
    "plt.plot(cenM,mean_pT_015_2[0],'--b', linewidth=.5)\n",
    "plt.plot(cenM,mean_pT_015_2[1],'--g', linewidth=.5)\n",
    "plt.plot(cenM,mean_pT_015_2[2],'--r', linewidth=.5)\n",
    "\n",
    "    # Pre-calculated (integrated) <pT>     \n",
    "plt.plot(cenM,int_mean_pT2[0],'b', linewidth=.5)\n",
    "plt.plot(cenM,int_mean_pT2[1],'g', linewidth=.5)\n",
    "plt.plot(cenM,int_mean_pT2[2],'r', linewidth=.5)\n",
    "\n",
    "    # Range for <pT> using the upper bin edge as the highest deviation\n",
    "#ax.fill_between(cenM, mean_pT[0]-(mean_pT_upper_cutoff[0]-mean_pT[0]), mean_pT[0]+(mean_pT_upper_cutoff[0]-mean_pT[0]),\n",
    "    #alpha=0.5, facecolor='cornflowerblue', linestyle='dashdot')  #edgecolor='#008000','#15B01A'\n",
    "#ax.fill_between(cenM, mean_pT[1]-(mean_pT_upper_cutoff[1]-mean_pT[1]), mean_pT[1]+(mean_pT_upper_cutoff[1]-mean_pT[1]),\n",
    "    #alpha=0.5, facecolor='mediumaquamarine', linestyle='dashdot')  #edgecolor='#008000','#15B01A'\n",
    "#ax.fill_between(cenM, mean_pT[2]-(mean_pT_upper_cutoff[2]-mean_pT[2]), mean_pT[2]+(mean_pT_upper_cutoff[2]-mean_pT[2]),\n",
    "    #alpha=0.5, facecolor='indianred', linestyle='dashdot')  #edgecolor='#008000','#15B01A'\n",
    "\n",
    "\n",
    "w, = plt.plot(0,0,'--k', label='pT-diff [0.15,2 GeV]');\n",
    "w2, = plt.plot( 0,0 ,'k', label='pT-int');\n",
    "w3, = plt.plot(0,0,'-.k', label=\"pT-diff [0.2,3 GeV]\")\n",
    "blue_patch = mpatches.Patch(color='blue', label='$\\pi$');\n",
    "green_patch = mpatches.Patch(color='green', label='$k$');\n",
    "red_patch = mpatches.Patch(color='red', label='$p$');\n",
    "plt.legend(handles=[w2,w,w3,blue_patch,green_patch,red_patch])\n",
    "\n",
    "plt.xlabel('Centrality %')\n",
    "plt.ylabel('<pT> (GeV)')\n",
    "ax.yaxis.tick_left()\n",
    "ax.yaxis.set_ticks_position('both')\n",
    "plt.savefig('meanpT.png', bbox_inches='tight', dpi=300)\n",
    "plt.show()"
   ]
  },
  {
   "cell_type": "code",
   "execution_count": null,
   "metadata": {},
   "outputs": [],
   "source": []
  }
 ],
 "metadata": {
  "kernelspec": {
   "display_name": "Python 3",
   "language": "python",
   "name": "python3"
  },
  "language_info": {
   "codemirror_mode": {
    "name": "ipython",
    "version": 3
   },
   "file_extension": ".py",
   "mimetype": "text/x-python",
   "name": "python",
   "nbconvert_exporter": "python",
   "pygments_lexer": "ipython3",
   "version": "3.6.3"
  }
 },
 "nbformat": 4,
 "nbformat_minor": 2
}
